{
 "cells": [
  {
   "cell_type": "markdown",
   "id": "0d033e85",
   "metadata": {},
   "source": [
    "# Life Expectancy By Country"
   ]
  },
  {
   "cell_type": "markdown",
   "id": "addfa720",
   "metadata": {},
   "source": [
    "## Access the Data"
   ]
  },
  {
   "cell_type": "markdown",
   "id": "44ba5eb2",
   "metadata": {},
   "source": [
    "1. We've imported a dataset containing the life expectancy in different countries. The data can be found in the variable named `data`.\n",
    "\n",
    "   To begin, let's get a sense of what this data looks like. Print `data.head()` to see the first 5 rows of the dataset.\n",
    "   \n",
    "   Look at the names of the columns. What other pieces of information does this dataset contain?\n"
   ]
  },
  {
   "cell_type": "code",
   "execution_count": 2,
   "id": "551cb1ca",
   "metadata": {},
   "outputs": [
    {
     "data": {
      "text/html": [
       "<div>\n",
       "<style scoped>\n",
       "    .dataframe tbody tr th:only-of-type {\n",
       "        vertical-align: middle;\n",
       "    }\n",
       "\n",
       "    .dataframe tbody tr th {\n",
       "        vertical-align: top;\n",
       "    }\n",
       "\n",
       "    .dataframe thead th {\n",
       "        text-align: right;\n",
       "    }\n",
       "</style>\n",
       "<table border=\"1\" class=\"dataframe\">\n",
       "  <thead>\n",
       "    <tr style=\"text-align: right;\">\n",
       "      <th></th>\n",
       "      <th>Country</th>\n",
       "      <th>Life Expectancy</th>\n",
       "      <th>GDP</th>\n",
       "    </tr>\n",
       "  </thead>\n",
       "  <tbody>\n",
       "    <tr>\n",
       "      <th>0</th>\n",
       "      <td>Afghanistan</td>\n",
       "      <td>58.19375</td>\n",
       "      <td>340.015425</td>\n",
       "    </tr>\n",
       "    <tr>\n",
       "      <th>1</th>\n",
       "      <td>Albania</td>\n",
       "      <td>75.15625</td>\n",
       "      <td>2119.726679</td>\n",
       "    </tr>\n",
       "    <tr>\n",
       "      <th>2</th>\n",
       "      <td>Algeria</td>\n",
       "      <td>73.61875</td>\n",
       "      <td>2847.853392</td>\n",
       "    </tr>\n",
       "    <tr>\n",
       "      <th>3</th>\n",
       "      <td>Angola</td>\n",
       "      <td>49.01875</td>\n",
       "      <td>1975.143045</td>\n",
       "    </tr>\n",
       "    <tr>\n",
       "      <th>4</th>\n",
       "      <td>Antigua and Barbuda</td>\n",
       "      <td>75.05625</td>\n",
       "      <td>9759.305728</td>\n",
       "    </tr>\n",
       "  </tbody>\n",
       "</table>\n",
       "</div>"
      ],
      "text/plain": [
       "               Country  Life Expectancy          GDP\n",
       "0          Afghanistan         58.19375   340.015425\n",
       "1              Albania         75.15625  2119.726679\n",
       "2              Algeria         73.61875  2847.853392\n",
       "3               Angola         49.01875  1975.143045\n",
       "4  Antigua and Barbuda         75.05625  9759.305728"
      ]
     },
     "execution_count": 2,
     "metadata": {},
     "output_type": "execute_result"
    }
   ],
   "source": [
    "import numpy as np\n",
    "import pandas as pd\n",
    "import matplotlib.pyplot as plt\n",
    "\n",
    "data = pd.read_csv(\"country_data.csv\")\n",
    "data.head()"
   ]
  },
  {
   "cell_type": "markdown",
   "id": "1b0baea2",
   "metadata": {},
   "source": [
    "2. Let's isolate the column that contains the life expectancy and store it in a variable named `life_expectancy`. "
   ]
  },
  {
   "cell_type": "code",
   "execution_count": 3,
   "id": "817d9a01",
   "metadata": {},
   "outputs": [],
   "source": [
    "life_expectancy = data[\"Life Expectancy\"]"
   ]
  },
  {
   "cell_type": "markdown",
   "id": "6dbb4fb4",
   "metadata": {},
   "source": [
    "## Find the Quantiles"
   ]
  },
  {
   "cell_type": "markdown",
   "id": "f2bb4419",
   "metadata": {},
   "source": [
    "3. We can now use NumPy functions on that column! Let's use the `np.quantile()` function to find the quartiles of `life_expectancy`. Store the result in a variable named `life_expectancy_quartiles` and print the results."
   ]
  },
  {
   "cell_type": "code",
   "execution_count": 6,
   "id": "132424f2",
   "metadata": {},
   "outputs": [
    {
     "name": "stdout",
     "output_type": "stream",
     "text": [
      "[62.325     72.525     75.4421875]\n"
     ]
    }
   ],
   "source": [
    "life_expectancy_quartiles = np.quantile(life_expectancy,[0.25,0.5,0.75])\n",
    "print(life_expectancy_quartiles)"
   ]
  },
  {
   "cell_type": "markdown",
   "id": "d6b6d31e",
   "metadata": {},
   "source": [
    "4. Nice work! By looking at those three values you can get a sense of the spread of the data. For example, it seems like some of the data is fairly close together &mdash; a quarter of the data is between `72.5` years and `75.4` years.   "
   ]
  },
  {
   "cell_type": "code",
   "execution_count": 8,
   "id": "9ae17988",
   "metadata": {},
   "outputs": [
    {
     "data": {
      "image/png": "[encoded data removed]",
      "text/plain": [
       "<Figure size 640x480 with 1 Axes>"
      ]
     },
     "metadata": {},
     "output_type": "display_data"
    },
    {
     "data": {
      "text/plain": [
       "<Figure size 640x480 with 0 Axes>"
      ]
     },
     "metadata": {},
     "output_type": "display_data"
    }
   ],
   "source": [
    "plt.hist(life_expectancy)\n",
    "plt.show()\n",
    "plt.clf()"
   ]
  },
  {
   "cell_type": "markdown",
   "id": "be8976cb",
   "metadata": {},
   "source": [
    "5. Let's take a moment to think about the meaning of these quartiles. If your country has a life expectancy of `70` years, does that fall in the first, second, third, or final quarter of the data?\n"
   ]
  },
  {
   "cell_type": "markdown",
   "id": "3e1a8f14",
   "metadata": {},
   "source": [
    "Answer : Second quarter of the data !"
   ]
  },
  {
   "cell_type": "code",
   "execution_count": 17,
   "id": "0f7d616f",
   "metadata": {},
   "outputs": [
    {
     "data": {
      "image/png": "[encoded data removed]",
      "text/plain": [
       "<Figure size 640x480 with 1 Axes>"
      ]
     },
     "metadata": {},
     "output_type": "display_data"
    },
    {
     "data": {
      "text/plain": [
       "<Figure size 640x480 with 0 Axes>"
      ]
     },
     "metadata": {},
     "output_type": "display_data"
    }
   ],
   "source": [
    "quarter =0\n",
    "plt.hist(life_expectancy)\n",
    "\n",
    "for q in life_expectancy_quartiles:\n",
    "    quarter +=1 \n",
    "    plt.axvline(q, color='orange')\n",
    "    plt.text(q,50,\"Q\"+str(quarter))\n",
    "plt.axvline(70, color='red')\n",
    "plt.show()\n",
    "plt.clf()"
   ]
  },
  {
   "cell_type": "markdown",
   "id": "dc83db64",
   "metadata": {},
   "source": [
    "## Splitting the Data by GDP"
   ]
  },
  {
   "cell_type": "markdown",
   "id": "4dab91c1",
   "metadata": {},
   "source": [
    "6. GDP is a measure of a country's wealth. Let's now use the GDP data to see if life expectancy is affected by this value.\n",
    "\n",
    "   Let's split the data into two groups based on GDP. If we find the median GDP, we can create two datasets for \"low GDP countries\" and \"high GDP countries\".\n",
    "   \n",
    "   To start, let's isolate the GDP column and store it in a variable named `gdp`. This should be similar to how you isolated the life expectancy column."
   ]
  },
  {
   "cell_type": "code",
   "execution_count": 18,
   "id": "fa544862",
   "metadata": {},
   "outputs": [],
   "source": [
    "gdp = data[\"GDP\"]"
   ]
  },
  {
   "cell_type": "markdown",
   "id": "cc7e433e",
   "metadata": {},
   "source": [
    "7. We now want to find the median GDP. You can use NumPy's `np.median()` function, but since the median is also a quantile, we can call `np.quantile()` using `0.5` as the second parameter.\n",
    "\n",
    "   Store the median in a variable named `median_gdp`. Print that variable to see the median."
   ]
  },
  {
   "cell_type": "code",
   "execution_count": 21,
   "id": "1a3e21b3",
   "metadata": {},
   "outputs": [
    {
     "data": {
      "text/plain": [
       "2938.0781155"
      ]
     },
     "execution_count": 21,
     "metadata": {},
     "output_type": "execute_result"
    }
   ],
   "source": [
    "median_gdp = np.quantile(gdp,0.5)\n",
    "median_gdp"
   ]
  },
  {
   "cell_type": "markdown",
   "id": "7581520c",
   "metadata": {},
   "source": [
    "8. Let's now grab all of the rows from our original dataset that have a GDP less than or equal to the median. The following code will do that for you:\n",
    "\n",
    "\n",
    "   Do the same for all of the rows that have a GDP higher than the median. Store those rows in a variable named `high_gdp`.\n",
    "   \n",
    "   The line of code should look almost identical to the one above, but you should change the `<=` to `>`.\n",
    "   \n",
    "   Remember to change the name of the variable!"
   ]
  },
  {
   "cell_type": "code",
   "execution_count": 22,
   "id": "12067c34",
   "metadata": {},
   "outputs": [],
   "source": [
    "low_gdp = data[data['GDP'] <= median_gdp]\n",
    "high_gdp = data[data['GDP'] > median_gdp]"
   ]
  },
  {
   "cell_type": "markdown",
   "id": "26ad7103",
   "metadata": {},
   "source": [
    "9. Now that we've split the data based on the GDP, let's see how the life expectancy of each group compares to each other.\n",
    "\n",
    "   Find the quartiles of the `\"Life Expectancy\"` column of `low_gdp`. Store the quartiles in a variable named `low_gdp_quartiles`. Print the results."
   ]
  },
  {
   "cell_type": "code",
   "execution_count": 25,
   "id": "4a06ada2",
   "metadata": {},
   "outputs": [
    {
     "data": {
      "text/plain": [
       "array([ 410.67611405,  801.9123832 , 1955.7672415 ])"
      ]
     },
     "execution_count": 25,
     "metadata": {},
     "output_type": "execute_result"
    }
   ],
   "source": [
    "low_gdp_quartiles = np.quantile(low_gdp[\"GDP\"], [0.25,0.5,0.75])\n",
    "low_gdp_quartiles"
   ]
  },
  {
   "cell_type": "markdown",
   "id": "e900d679",
   "metadata": {},
   "source": [
    "10. Find the quartiles of the high GDP countries and store them in a variable named `high_gdp_quartiles`. This should look very similar to the last line of code you wrote. Print the results."
   ]
  },
  {
   "cell_type": "code",
   "execution_count": 26,
   "id": "091c76c9",
   "metadata": {},
   "outputs": [
    {
     "data": {
      "text/plain": [
       "array([ 4686.353328,  7902.410789, 20489.795235])"
      ]
     },
     "execution_count": 26,
     "metadata": {},
     "output_type": "execute_result"
    }
   ],
   "source": [
    "high_gdp_quartiles = np.quantile(high_gdp[\"GDP\"], [0.25,0.5,0.75])\n",
    "high_gdp_quartiles"
   ]
  },
  {
   "cell_type": "markdown",
   "id": "5fbc2a78",
   "metadata": {},
   "source": [
    "## Histogram and Conclusions"
   ]
  },
  {
   "cell_type": "markdown",
   "id": "f3472ae2",
   "metadata": {},
   "source": [
    "11. By looking at the quantiles, you should get a sense of the spread and central tendency of these two datasets. But let's plot a histogram of each dataset to really compare them.\n"
   ]
  },
  {
   "cell_type": "code",
   "execution_count": 27,
   "id": "87077d84",
   "metadata": {},
   "outputs": [
    {
     "data": {
      "image/png": "[encoded data removed]",
      "text/plain": [
       "<Figure size 640x480 with 1 Axes>"
      ]
     },
     "metadata": {},
     "output_type": "display_data"
    },
    {
     "data": {
      "text/plain": [
       "<Figure size 640x480 with 0 Axes>"
      ]
     },
     "metadata": {},
     "output_type": "display_data"
    }
   ],
   "source": [
    "plt.hist(high_gdp[\"Life Expectancy\"], alpha = 0.5, label = \"High GDP\")\n",
    "plt.hist(low_gdp[\"Life Expectancy\"], alpha = 0.5, label = \"Low GDP\")\n",
    "plt.legend()\n",
    "plt.show()\n",
    "plt.clf()"
   ]
  },
  {
   "cell_type": "markdown",
   "id": "2903763d",
   "metadata": {},
   "source": [
    "12. We can now truly see the impact GDP has on life expectancy.\n",
    "\n",
    "    Once again, consider a country that has a life expectancy of `70` years. If that country is in the top half of GDP countries, is it in the first, second, third, or fourth quarter of the data with respect to life expectancy? What if the country is in the bottom half of the countries? View **Life Expectancy By Country_Solution.ipynb** to see our thoughts."
   ]
  },
  {
   "cell_type": "markdown",
   "id": "e6e2dc05",
   "metadata": {},
   "source": [
    "Answer : 70 is below the first quartile of the high GDP dataset, so it falls in the first quarter of that dataset. 70 is between the second and third quartile of the low GDP dataset, so it falls in the third quarter."
   ]
  },
  {
   "cell_type": "code",
   "execution_count": 31,
   "id": "824694fe",
   "metadata": {},
   "outputs": [
    {
     "data": {
      "image/png": "[encoded data removed]",
      "text/plain": [
       "<Figure size 640x480 with 1 Axes>"
      ]
     },
     "metadata": {},
     "output_type": "display_data"
    },
    {
     "data": {
      "text/plain": [
       "<Figure size 640x480 with 0 Axes>"
      ]
     },
     "metadata": {},
     "output_type": "display_data"
    }
   ],
   "source": [
    "low_life_expectancy_quartiles = np.quantile(low_gdp[\"Life Expectancy\"], [0.25,0.5,0.75])\n",
    "high_life_expectancy_quartiles = np.quantile(high_gdp[\"Life Expectancy\"], [0.25,0.5,0.75])\n",
    "\n",
    "quarter =0\n",
    "plt.hist(high_gdp[\"Life Expectancy\"], alpha = 0.5, label = \"High GDP\")\n",
    "plt.hist(low_gdp[\"Life Expectancy\"], alpha = 0.5, label = \"Low GDP\")\n",
    "plt.legend()\n",
    "\n",
    "for q in low_life_expectancy_quartiles:\n",
    "    quarter +=1 \n",
    "    plt.axvline(q, color='orange')\n",
    "    plt.text(q,25,\"Q\"+str(quarter))\n",
    "\n",
    "quarter= 0\n",
    "for q in high_life_expectancy_quartiles:\n",
    "    quarter +=1 \n",
    "    plt.axvline(q, color='green')\n",
    "    plt.text(q,25,\"Q\"+str(quarter))\n",
    "plt.axvline(70, color='red')\n",
    "plt.show()\n",
    "plt.clf()"
   ]
  }
 ],
 "metadata": {
  "kernelspec": {
   "display_name": "Python 3 (ipykernel)",
   "language": "python",
   "name": "python3"
  },
  "language_info": {
   "codemirror_mode": {
    "name": "ipython",
    "version": 3
   },
   "file_extension": ".py",
   "mimetype": "text/x-python",
   "name": "python",
   "nbconvert_exporter": "python",
   "pygments_lexer": "ipython3",
   "version": "3.9.13"
  }
 },
 "nbformat": 4,
 "nbformat_minor": 5
}
